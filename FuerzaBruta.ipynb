{
  "nbformat": 4,
  "nbformat_minor": 0,
  "metadata": {
    "colab": {
      "provenance": [],
      "authorship_tag": "ABX9TyNcCsGVz3XbpVnc8s4AmK1O",
      "include_colab_link": true
    },
    "kernelspec": {
      "name": "python3",
      "display_name": "Python 3"
    },
    "language_info": {
      "name": "python"
    }
  },
  "cells": [
    {
      "cell_type": "markdown",
      "metadata": {
        "id": "view-in-github",
        "colab_type": "text"
      },
      "source": [
        "<a href=\"https://colab.research.google.com/github/usapanda/CamargoIsabeella_Prog2/blob/main/FuerzaBruta.ipynb\" target=\"_parent\"><img src=\"https://colab.research.google.com/assets/colab-badge.svg\" alt=\"Open In Colab\"/></a>"
      ]
    },
    {
      "cell_type": "code",
      "execution_count": 2,
      "metadata": {
        "colab": {
          "base_uri": "https://localhost:8080/"
        },
        "id": "5db_3KAokxa0",
        "outputId": "7539a99a-d51d-46a5-b335-690346fd5118"
      },
      "outputs": [
        {
          "output_type": "stream",
          "name": "stdout",
          "text": [
            "Se encontró de 'estás' en el índice 12\n"
          ]
        }
      ],
      "source": [
        "def rk(texto, p):\n",
        "    if not texto or not p:\n",
        "        print(\"Error: Ambos deben contener algo.\")\n",
        "        return\n",
        "\n",
        "    if len(p) > len(texto):\n",
        "        print(\"Error: El segundo es más largo que el primero.\")\n",
        "        return\n",
        "\n",
        "    primo = 101\n",
        "    hash_patron = 0\n",
        "    hash_texto = 0\n",
        "    for i in range(len(p)):\n",
        "        hash_patron = (hash_patron + ord(p[i])) % primo\n",
        "        hash_texto = (hash_texto + ord(texto[i])) % primo\n",
        "\n",
        "    for i in range(len(texto) - len(p) + 1):\n",
        "        if hash_patron == hash_texto:\n",
        "            if texto[i:i+len(p)] == p:\n",
        "                print(f\"Se encontró de \\'{p}\\' en el índice {i}\")\n",
        "        if i < len(texto) - len(p):\n",
        "            hash_texto = (hash_texto - ord(texto[i]) + ord(texto[i + len(p)])) % primo\n",
        "            if hash_texto < 0:\n",
        "                hash_texto += primo\n",
        "\n",
        "texto = \"Hola, ¿cómo estás hoy?\"\n",
        "patron = \"estás\"\n",
        "rk(texto, patron)"
      ]
    }
  ]
}